{
 "cells": [
  {
   "cell_type": "markdown",
   "metadata": {},
   "source": [
    "# 五王之战分析 - 冰与火之歌"
   ]
  },
  {
   "cell_type": "markdown",
   "metadata": {},
   "source": [
    "## 简介\n",
    "\n",
    "五王之战（War of the Five Kings）是著名严肃奇幻小说《冰与火之歌》中的著名内战。这是一场规模空前、波及七大王国的内乱。顾名思义，前后共有五人在战争中称王：乔佛里、史坦尼斯、蓝礼均声称自己是铁王座的合法继承人。除此之外，罗柏·史塔克被北境众封臣推选为北境之王，巴隆·葛雷乔伊亦再度掀起独立大旗，欲摆脱铁王座的统治，自称为铁群岛之王。\n",
    "\n"
   ]
  },
  {
   "cell_type": "markdown",
   "metadata": {},
   "source": [
    "本数据集(battles.csv)包含了五王之战期间的战争，它是所有战斗的大集合。该数据是Kaggle中[Game of Thrones](https://www.kaggle.com/mylesoneill/game-of-thrones)的一部分。\n",
    "\n",
    "数据中的变量含义解释：\n",
    "```\n",
    "name: 战争的名称，字符变量。\n",
    "year: 战争发生的年份，数值变量。\n",
    "battle_number: 本数据中的unique id，对应每一场独立的战役，数值变量。\n",
    "attacker_king: 攻击方的国王，\"/\"表示了国王的更换。例如：\"Joffrey/Tommen Baratheon\"意味着Tomen Baratheon继承了Joffrey的王位，分类变量。\n",
    "defender_king: 防守方的国王，分类变量。\n",
    "attacker_1: 攻击方将领，字符变量。\n",
    "attacker_2: 攻击方将领，字符变量。\n",
    "attacker_3: 攻击方将领，字符变量。\n",
    "attacker_4: 攻击方将领，字符变量。\n",
    "defender_1: 防守方将领，字符变量。\n",
    "defender_2: 防守方将领，字符变量。\n",
    "defender_3: 防守方将领，字符变量。\n",
    "defender_4: 防守方将领，字符变量。\n",
    "attacker_outcome: 从攻击方角度来看的战争结果，分别有：win, loss, draw，分类变量。\n",
    "battle_type: 战争的类别。pitched_battle: 双方军队在一个地点相遇并战斗，这也是最基本的战争类别；ambush: 以隐身或诡计为主要攻击手段的战争；siege: 阵地战；razing: 对未设防位置的攻击。分类变量。\n",
    "major_death: 是否有重要人物的死亡，二进制变量。\n",
    "major_capture: 是否有重要人物的被捕，二进制变量。\n",
    "attacker_size: 攻击方力量的大小，并未对骑兵、步兵等士兵种类有所区分，数值变量。\n",
    "defender_size: 防守方力量的大小，并未对骑兵、步兵等士兵种类有所区分，数值变量。\n",
    "attacker_commander: 攻击方的主要指挥官。指挥官的名字中并没有包含头衔，不同的指挥官名字用逗号隔开，字符变量。\n",
    "defender_commander: 防守方的主要指挥官。指挥官的名字中并没有包含头衔，不同的指挥官名字用逗号隔开，字符变量。\n",
    "summer: 战争是否发生于夏天，二进制变量。\n",
    "location: 战争发生的地点，字符变量。\n",
    "region: 战争发生的地域，包括：Beyond the Wall, The North, The Iron Islands, The Riverlands, The Vale of Arryn, The Westerlands, The Crownlands, The Reach, The Stormlands, Dorne，分类变量。\n",
    "note: 注释，字符变量。\n",
    "\n",
    "```"
   ]
  },
  {
   "cell_type": "markdown",
   "metadata": {},
   "source": [
    "## 提出问题\n",
    "\n",
    "1. 战争发生年份的分布\n",
    "2. 哪一个区域发生最多的战争？\n",
    "3. 哪一个国王获得了最多的胜利？\n",
    "4. 战争胜利与否受哪些关键因素影响？\n",
    "5. 哪种战争类别的攻击方更容易获胜？\n",
    "6. 夏天发生的战争有什么特点？"
   ]
  },
  {
   "cell_type": "markdown",
   "metadata": {},
   "source": [
    "## 数据评估和清理"
   ]
  },
  {
   "cell_type": "code",
   "execution_count": 1,
   "metadata": {},
   "outputs": [],
   "source": [
    "# 载入所需功能包\n",
    "import csv\n",
    "import pandas as pd\n",
    "import numpy as np\n",
    "import matplotlib.pyplot as plt\n",
    "%matplotlib inline"
   ]
  },
  {
   "cell_type": "code",
   "execution_count": 2,
   "metadata": {},
   "outputs": [],
   "source": [
    "# 设置颜色集\n",
    "one_color = 'lightseagreen'\n",
    "two_color = ['lightsalmon', 'lightseagreen']\n",
    "two_color2 = ['orange', 'olivedrab']\n",
    "ten_color = ['lightseagreen', 'lightsalmon', 'lightgreen', 'lightpink', 'slateblue', \\\n",
    "             'sienna', 'violet', 'lightsteelblue', 'yellowgreen', 'lightskyblue']"
   ]
  },
  {
   "cell_type": "code",
   "execution_count": 3,
   "metadata": {},
   "outputs": [
    {
     "data": {
      "text/html": [
       "<div>\n",
       "<style scoped>\n",
       "    .dataframe tbody tr th:only-of-type {\n",
       "        vertical-align: middle;\n",
       "    }\n",
       "\n",
       "    .dataframe tbody tr th {\n",
       "        vertical-align: top;\n",
       "    }\n",
       "\n",
       "    .dataframe thead th {\n",
       "        text-align: right;\n",
       "    }\n",
       "</style>\n",
       "<table border=\"1\" class=\"dataframe\">\n",
       "  <thead>\n",
       "    <tr style=\"text-align: right;\">\n",
       "      <th></th>\n",
       "      <th>name</th>\n",
       "      <th>year</th>\n",
       "      <th>battle_number</th>\n",
       "      <th>attacker_king</th>\n",
       "      <th>defender_king</th>\n",
       "      <th>attacker_1</th>\n",
       "      <th>attacker_2</th>\n",
       "      <th>attacker_3</th>\n",
       "      <th>attacker_4</th>\n",
       "      <th>defender_1</th>\n",
       "      <th>...</th>\n",
       "      <th>major_death</th>\n",
       "      <th>major_capture</th>\n",
       "      <th>attacker_size</th>\n",
       "      <th>defender_size</th>\n",
       "      <th>attacker_commander</th>\n",
       "      <th>defender_commander</th>\n",
       "      <th>summer</th>\n",
       "      <th>location</th>\n",
       "      <th>region</th>\n",
       "      <th>note</th>\n",
       "    </tr>\n",
       "  </thead>\n",
       "  <tbody>\n",
       "    <tr>\n",
       "      <th>0</th>\n",
       "      <td>Battle of the Golden Tooth</td>\n",
       "      <td>298</td>\n",
       "      <td>1</td>\n",
       "      <td>Joffrey/Tommen Baratheon</td>\n",
       "      <td>Robb Stark</td>\n",
       "      <td>Lannister</td>\n",
       "      <td>NaN</td>\n",
       "      <td>NaN</td>\n",
       "      <td>NaN</td>\n",
       "      <td>Tully</td>\n",
       "      <td>...</td>\n",
       "      <td>1.0</td>\n",
       "      <td>0.0</td>\n",
       "      <td>15000.0</td>\n",
       "      <td>4000.0</td>\n",
       "      <td>Jaime Lannister</td>\n",
       "      <td>Clement Piper, Vance</td>\n",
       "      <td>1.0</td>\n",
       "      <td>Golden Tooth</td>\n",
       "      <td>The Westerlands</td>\n",
       "      <td>NaN</td>\n",
       "    </tr>\n",
       "    <tr>\n",
       "      <th>1</th>\n",
       "      <td>Battle at the Mummer's Ford</td>\n",
       "      <td>298</td>\n",
       "      <td>2</td>\n",
       "      <td>Joffrey/Tommen Baratheon</td>\n",
       "      <td>Robb Stark</td>\n",
       "      <td>Lannister</td>\n",
       "      <td>NaN</td>\n",
       "      <td>NaN</td>\n",
       "      <td>NaN</td>\n",
       "      <td>Baratheon</td>\n",
       "      <td>...</td>\n",
       "      <td>1.0</td>\n",
       "      <td>0.0</td>\n",
       "      <td>NaN</td>\n",
       "      <td>120.0</td>\n",
       "      <td>Gregor Clegane</td>\n",
       "      <td>Beric Dondarrion</td>\n",
       "      <td>1.0</td>\n",
       "      <td>Mummer's Ford</td>\n",
       "      <td>The Riverlands</td>\n",
       "      <td>NaN</td>\n",
       "    </tr>\n",
       "    <tr>\n",
       "      <th>2</th>\n",
       "      <td>Battle of Riverrun</td>\n",
       "      <td>298</td>\n",
       "      <td>3</td>\n",
       "      <td>Joffrey/Tommen Baratheon</td>\n",
       "      <td>Robb Stark</td>\n",
       "      <td>Lannister</td>\n",
       "      <td>NaN</td>\n",
       "      <td>NaN</td>\n",
       "      <td>NaN</td>\n",
       "      <td>Tully</td>\n",
       "      <td>...</td>\n",
       "      <td>0.0</td>\n",
       "      <td>1.0</td>\n",
       "      <td>15000.0</td>\n",
       "      <td>10000.0</td>\n",
       "      <td>Jaime Lannister, Andros Brax</td>\n",
       "      <td>Edmure Tully, Tytos Blackwood</td>\n",
       "      <td>1.0</td>\n",
       "      <td>Riverrun</td>\n",
       "      <td>The Riverlands</td>\n",
       "      <td>NaN</td>\n",
       "    </tr>\n",
       "    <tr>\n",
       "      <th>3</th>\n",
       "      <td>Battle of the Green Fork</td>\n",
       "      <td>298</td>\n",
       "      <td>4</td>\n",
       "      <td>Robb Stark</td>\n",
       "      <td>Joffrey/Tommen Baratheon</td>\n",
       "      <td>Stark</td>\n",
       "      <td>NaN</td>\n",
       "      <td>NaN</td>\n",
       "      <td>NaN</td>\n",
       "      <td>Lannister</td>\n",
       "      <td>...</td>\n",
       "      <td>1.0</td>\n",
       "      <td>1.0</td>\n",
       "      <td>18000.0</td>\n",
       "      <td>20000.0</td>\n",
       "      <td>Roose Bolton, Wylis Manderly, Medger Cerwyn, H...</td>\n",
       "      <td>Tywin Lannister, Gregor Clegane, Kevan Lannist...</td>\n",
       "      <td>1.0</td>\n",
       "      <td>Green Fork</td>\n",
       "      <td>The Riverlands</td>\n",
       "      <td>NaN</td>\n",
       "    </tr>\n",
       "    <tr>\n",
       "      <th>4</th>\n",
       "      <td>Battle of the Whispering Wood</td>\n",
       "      <td>298</td>\n",
       "      <td>5</td>\n",
       "      <td>Robb Stark</td>\n",
       "      <td>Joffrey/Tommen Baratheon</td>\n",
       "      <td>Stark</td>\n",
       "      <td>Tully</td>\n",
       "      <td>NaN</td>\n",
       "      <td>NaN</td>\n",
       "      <td>Lannister</td>\n",
       "      <td>...</td>\n",
       "      <td>1.0</td>\n",
       "      <td>1.0</td>\n",
       "      <td>1875.0</td>\n",
       "      <td>6000.0</td>\n",
       "      <td>Robb Stark, Brynden Tully</td>\n",
       "      <td>Jaime Lannister</td>\n",
       "      <td>1.0</td>\n",
       "      <td>Whispering Wood</td>\n",
       "      <td>The Riverlands</td>\n",
       "      <td>NaN</td>\n",
       "    </tr>\n",
       "  </tbody>\n",
       "</table>\n",
       "<p>5 rows × 25 columns</p>\n",
       "</div>"
      ],
      "text/plain": [
       "                            name  year  battle_number  \\\n",
       "0     Battle of the Golden Tooth   298              1   \n",
       "1    Battle at the Mummer's Ford   298              2   \n",
       "2             Battle of Riverrun   298              3   \n",
       "3       Battle of the Green Fork   298              4   \n",
       "4  Battle of the Whispering Wood   298              5   \n",
       "\n",
       "              attacker_king             defender_king attacker_1 attacker_2  \\\n",
       "0  Joffrey/Tommen Baratheon                Robb Stark  Lannister        NaN   \n",
       "1  Joffrey/Tommen Baratheon                Robb Stark  Lannister        NaN   \n",
       "2  Joffrey/Tommen Baratheon                Robb Stark  Lannister        NaN   \n",
       "3                Robb Stark  Joffrey/Tommen Baratheon      Stark        NaN   \n",
       "4                Robb Stark  Joffrey/Tommen Baratheon      Stark      Tully   \n",
       "\n",
       "  attacker_3 attacker_4 defender_1 ...  major_death  major_capture  \\\n",
       "0        NaN        NaN      Tully ...          1.0            0.0   \n",
       "1        NaN        NaN  Baratheon ...          1.0            0.0   \n",
       "2        NaN        NaN      Tully ...          0.0            1.0   \n",
       "3        NaN        NaN  Lannister ...          1.0            1.0   \n",
       "4        NaN        NaN  Lannister ...          1.0            1.0   \n",
       "\n",
       "   attacker_size defender_size  \\\n",
       "0        15000.0        4000.0   \n",
       "1            NaN         120.0   \n",
       "2        15000.0       10000.0   \n",
       "3        18000.0       20000.0   \n",
       "4         1875.0        6000.0   \n",
       "\n",
       "                                  attacker_commander  \\\n",
       "0                                    Jaime Lannister   \n",
       "1                                     Gregor Clegane   \n",
       "2                       Jaime Lannister, Andros Brax   \n",
       "3  Roose Bolton, Wylis Manderly, Medger Cerwyn, H...   \n",
       "4                          Robb Stark, Brynden Tully   \n",
       "\n",
       "                                  defender_commander  summer         location  \\\n",
       "0                               Clement Piper, Vance     1.0     Golden Tooth   \n",
       "1                                   Beric Dondarrion     1.0    Mummer's Ford   \n",
       "2                      Edmure Tully, Tytos Blackwood     1.0         Riverrun   \n",
       "3  Tywin Lannister, Gregor Clegane, Kevan Lannist...     1.0       Green Fork   \n",
       "4                                    Jaime Lannister     1.0  Whispering Wood   \n",
       "\n",
       "            region note  \n",
       "0  The Westerlands  NaN  \n",
       "1   The Riverlands  NaN  \n",
       "2   The Riverlands  NaN  \n",
       "3   The Riverlands  NaN  \n",
       "4   The Riverlands  NaN  \n",
       "\n",
       "[5 rows x 25 columns]"
      ]
     },
     "execution_count": 3,
     "metadata": {},
     "output_type": "execute_result"
    }
   ],
   "source": [
    "# 读取数据\n",
    "data = pd.read_csv(\"battles.csv\")\n",
    "data.head()"
   ]
  },
  {
   "cell_type": "code",
   "execution_count": 4,
   "metadata": {},
   "outputs": [
    {
     "data": {
      "text/html": [
       "<div>\n",
       "<style scoped>\n",
       "    .dataframe tbody tr th:only-of-type {\n",
       "        vertical-align: middle;\n",
       "    }\n",
       "\n",
       "    .dataframe tbody tr th {\n",
       "        vertical-align: top;\n",
       "    }\n",
       "\n",
       "    .dataframe thead th {\n",
       "        text-align: right;\n",
       "    }\n",
       "</style>\n",
       "<table border=\"1\" class=\"dataframe\">\n",
       "  <thead>\n",
       "    <tr style=\"text-align: right;\">\n",
       "      <th></th>\n",
       "      <th>name</th>\n",
       "      <th>year</th>\n",
       "      <th>battle_number</th>\n",
       "      <th>attacker_king</th>\n",
       "      <th>defender_king</th>\n",
       "      <th>attacker_1</th>\n",
       "      <th>attacker_2</th>\n",
       "      <th>attacker_3</th>\n",
       "      <th>attacker_4</th>\n",
       "      <th>defender_1</th>\n",
       "      <th>...</th>\n",
       "      <th>major_death</th>\n",
       "      <th>major_capture</th>\n",
       "      <th>attacker_size</th>\n",
       "      <th>defender_size</th>\n",
       "      <th>attacker_commander</th>\n",
       "      <th>defender_commander</th>\n",
       "      <th>summer</th>\n",
       "      <th>location</th>\n",
       "      <th>region</th>\n",
       "      <th>note</th>\n",
       "    </tr>\n",
       "  </thead>\n",
       "  <tbody>\n",
       "    <tr>\n",
       "      <th>33</th>\n",
       "      <td>Second Seige of Storm's End</td>\n",
       "      <td>300</td>\n",
       "      <td>34</td>\n",
       "      <td>Joffrey/Tommen Baratheon</td>\n",
       "      <td>Stannis Baratheon</td>\n",
       "      <td>Baratheon</td>\n",
       "      <td>NaN</td>\n",
       "      <td>NaN</td>\n",
       "      <td>NaN</td>\n",
       "      <td>Baratheon</td>\n",
       "      <td>...</td>\n",
       "      <td>0.0</td>\n",
       "      <td>0.0</td>\n",
       "      <td>NaN</td>\n",
       "      <td>200.0</td>\n",
       "      <td>Mace Tyrell, Mathis Rowan</td>\n",
       "      <td>Gilbert Farring</td>\n",
       "      <td>0.0</td>\n",
       "      <td>Storm's End</td>\n",
       "      <td>The Stormlands</td>\n",
       "      <td>NaN</td>\n",
       "    </tr>\n",
       "    <tr>\n",
       "      <th>34</th>\n",
       "      <td>Siege of Dragonstone</td>\n",
       "      <td>300</td>\n",
       "      <td>35</td>\n",
       "      <td>Joffrey/Tommen Baratheon</td>\n",
       "      <td>Stannis Baratheon</td>\n",
       "      <td>Baratheon</td>\n",
       "      <td>NaN</td>\n",
       "      <td>NaN</td>\n",
       "      <td>NaN</td>\n",
       "      <td>Baratheon</td>\n",
       "      <td>...</td>\n",
       "      <td>0.0</td>\n",
       "      <td>0.0</td>\n",
       "      <td>2000.0</td>\n",
       "      <td>NaN</td>\n",
       "      <td>Loras Tyrell, Raxter Redwyne</td>\n",
       "      <td>Rolland Storm</td>\n",
       "      <td>0.0</td>\n",
       "      <td>Dragonstone</td>\n",
       "      <td>The Stormlands</td>\n",
       "      <td>NaN</td>\n",
       "    </tr>\n",
       "    <tr>\n",
       "      <th>35</th>\n",
       "      <td>Siege of Riverrun</td>\n",
       "      <td>300</td>\n",
       "      <td>36</td>\n",
       "      <td>Joffrey/Tommen Baratheon</td>\n",
       "      <td>Robb Stark</td>\n",
       "      <td>Lannister</td>\n",
       "      <td>Frey</td>\n",
       "      <td>NaN</td>\n",
       "      <td>NaN</td>\n",
       "      <td>Tully</td>\n",
       "      <td>...</td>\n",
       "      <td>0.0</td>\n",
       "      <td>0.0</td>\n",
       "      <td>3000.0</td>\n",
       "      <td>NaN</td>\n",
       "      <td>Daven Lannister, Ryman Fey, Jaime Lannister</td>\n",
       "      <td>Brynden Tully</td>\n",
       "      <td>0.0</td>\n",
       "      <td>Riverrun</td>\n",
       "      <td>The Riverlands</td>\n",
       "      <td>NaN</td>\n",
       "    </tr>\n",
       "    <tr>\n",
       "      <th>36</th>\n",
       "      <td>Siege of Raventree</td>\n",
       "      <td>300</td>\n",
       "      <td>37</td>\n",
       "      <td>Joffrey/Tommen Baratheon</td>\n",
       "      <td>Robb Stark</td>\n",
       "      <td>Bracken</td>\n",
       "      <td>Lannister</td>\n",
       "      <td>NaN</td>\n",
       "      <td>NaN</td>\n",
       "      <td>Blackwood</td>\n",
       "      <td>...</td>\n",
       "      <td>0.0</td>\n",
       "      <td>1.0</td>\n",
       "      <td>1500.0</td>\n",
       "      <td>NaN</td>\n",
       "      <td>Jonos Bracken, Jaime Lannister</td>\n",
       "      <td>Tytos Blackwood</td>\n",
       "      <td>0.0</td>\n",
       "      <td>Raventree</td>\n",
       "      <td>The Riverlands</td>\n",
       "      <td>NaN</td>\n",
       "    </tr>\n",
       "    <tr>\n",
       "      <th>37</th>\n",
       "      <td>Siege of Winterfell</td>\n",
       "      <td>300</td>\n",
       "      <td>38</td>\n",
       "      <td>Stannis Baratheon</td>\n",
       "      <td>Joffrey/Tommen Baratheon</td>\n",
       "      <td>Baratheon</td>\n",
       "      <td>Karstark</td>\n",
       "      <td>Mormont</td>\n",
       "      <td>Glover</td>\n",
       "      <td>Bolton</td>\n",
       "      <td>...</td>\n",
       "      <td>NaN</td>\n",
       "      <td>NaN</td>\n",
       "      <td>5000.0</td>\n",
       "      <td>8000.0</td>\n",
       "      <td>Stannis Baratheon</td>\n",
       "      <td>Roose Bolton</td>\n",
       "      <td>0.0</td>\n",
       "      <td>Winterfell</td>\n",
       "      <td>The North</td>\n",
       "      <td>NaN</td>\n",
       "    </tr>\n",
       "  </tbody>\n",
       "</table>\n",
       "<p>5 rows × 25 columns</p>\n",
       "</div>"
      ],
      "text/plain": [
       "                           name  year  battle_number  \\\n",
       "33  Second Seige of Storm's End   300             34   \n",
       "34         Siege of Dragonstone   300             35   \n",
       "35            Siege of Riverrun   300             36   \n",
       "36           Siege of Raventree   300             37   \n",
       "37          Siege of Winterfell   300             38   \n",
       "\n",
       "               attacker_king             defender_king attacker_1 attacker_2  \\\n",
       "33  Joffrey/Tommen Baratheon         Stannis Baratheon  Baratheon        NaN   \n",
       "34  Joffrey/Tommen Baratheon         Stannis Baratheon  Baratheon        NaN   \n",
       "35  Joffrey/Tommen Baratheon                Robb Stark  Lannister       Frey   \n",
       "36  Joffrey/Tommen Baratheon                Robb Stark    Bracken  Lannister   \n",
       "37         Stannis Baratheon  Joffrey/Tommen Baratheon  Baratheon   Karstark   \n",
       "\n",
       "   attacker_3 attacker_4 defender_1 ...  major_death  major_capture  \\\n",
       "33        NaN        NaN  Baratheon ...          0.0            0.0   \n",
       "34        NaN        NaN  Baratheon ...          0.0            0.0   \n",
       "35        NaN        NaN      Tully ...          0.0            0.0   \n",
       "36        NaN        NaN  Blackwood ...          0.0            1.0   \n",
       "37    Mormont     Glover     Bolton ...          NaN            NaN   \n",
       "\n",
       "    attacker_size defender_size                           attacker_commander  \\\n",
       "33            NaN         200.0                    Mace Tyrell, Mathis Rowan   \n",
       "34         2000.0           NaN                 Loras Tyrell, Raxter Redwyne   \n",
       "35         3000.0           NaN  Daven Lannister, Ryman Fey, Jaime Lannister   \n",
       "36         1500.0           NaN               Jonos Bracken, Jaime Lannister   \n",
       "37         5000.0        8000.0                            Stannis Baratheon   \n",
       "\n",
       "    defender_commander  summer     location          region note  \n",
       "33     Gilbert Farring     0.0  Storm's End  The Stormlands  NaN  \n",
       "34       Rolland Storm     0.0  Dragonstone  The Stormlands  NaN  \n",
       "35       Brynden Tully     0.0     Riverrun  The Riverlands  NaN  \n",
       "36     Tytos Blackwood     0.0    Raventree  The Riverlands  NaN  \n",
       "37        Roose Bolton     0.0   Winterfell       The North  NaN  \n",
       "\n",
       "[5 rows x 25 columns]"
      ]
     },
     "execution_count": 4,
     "metadata": {},
     "output_type": "execute_result"
    }
   ],
   "source": [
    "data.tail()"
   ]
  },
  {
   "cell_type": "code",
   "execution_count": 5,
   "metadata": {},
   "outputs": [
    {
     "name": "stdout",
     "output_type": "stream",
     "text": [
      "<class 'pandas.core.frame.DataFrame'>\n",
      "RangeIndex: 38 entries, 0 to 37\n",
      "Data columns (total 25 columns):\n",
      "name                  38 non-null object\n",
      "year                  38 non-null int64\n",
      "battle_number         38 non-null int64\n",
      "attacker_king         36 non-null object\n",
      "defender_king         35 non-null object\n",
      "attacker_1            38 non-null object\n",
      "attacker_2            10 non-null object\n",
      "attacker_3            3 non-null object\n",
      "attacker_4            2 non-null object\n",
      "defender_1            37 non-null object\n",
      "defender_2            2 non-null object\n",
      "defender_3            0 non-null float64\n",
      "defender_4            0 non-null float64\n",
      "attacker_outcome      37 non-null object\n",
      "battle_type           37 non-null object\n",
      "major_death           37 non-null float64\n",
      "major_capture         37 non-null float64\n",
      "attacker_size         24 non-null float64\n",
      "defender_size         19 non-null float64\n",
      "attacker_commander    37 non-null object\n",
      "defender_commander    28 non-null object\n",
      "summer                37 non-null float64\n",
      "location              37 non-null object\n",
      "region                38 non-null object\n",
      "note                  5 non-null object\n",
      "dtypes: float64(7), int64(2), object(16)\n",
      "memory usage: 7.5+ KB\n"
     ]
    }
   ],
   "source": [
    "# 查看数据基本信息\n",
    "data.info()"
   ]
  },
  {
   "cell_type": "markdown",
   "metadata": {},
   "source": [
    "由以上数据信息可知，总共有38条战争数据，含缺失值的列较多，需要更深入地探索含有缺失值的列数据。其中defender_3和defeber_4全部是缺失值，note信息显示不全，可以清除这三列数据。"
   ]
  },
  {
   "cell_type": "code",
   "execution_count": 6,
   "metadata": {},
   "outputs": [
    {
     "data": {
      "text/html": [
       "<div>\n",
       "<style scoped>\n",
       "    .dataframe tbody tr th:only-of-type {\n",
       "        vertical-align: middle;\n",
       "    }\n",
       "\n",
       "    .dataframe tbody tr th {\n",
       "        vertical-align: top;\n",
       "    }\n",
       "\n",
       "    .dataframe thead th {\n",
       "        text-align: right;\n",
       "    }\n",
       "</style>\n",
       "<table border=\"1\" class=\"dataframe\">\n",
       "  <thead>\n",
       "    <tr style=\"text-align: right;\">\n",
       "      <th></th>\n",
       "      <th>name</th>\n",
       "      <th>year</th>\n",
       "      <th>battle_number</th>\n",
       "      <th>attacker_king</th>\n",
       "      <th>defender_king</th>\n",
       "      <th>attacker_1</th>\n",
       "      <th>attacker_2</th>\n",
       "      <th>attacker_3</th>\n",
       "      <th>attacker_4</th>\n",
       "      <th>defender_1</th>\n",
       "      <th>...</th>\n",
       "      <th>major_death</th>\n",
       "      <th>major_capture</th>\n",
       "      <th>attacker_size</th>\n",
       "      <th>defender_size</th>\n",
       "      <th>attacker_commander</th>\n",
       "      <th>defender_commander</th>\n",
       "      <th>summer</th>\n",
       "      <th>location</th>\n",
       "      <th>region</th>\n",
       "      <th>note</th>\n",
       "    </tr>\n",
       "  </thead>\n",
       "  <tbody>\n",
       "    <tr>\n",
       "      <th>count</th>\n",
       "      <td>38</td>\n",
       "      <td>38.000000</td>\n",
       "      <td>38.000000</td>\n",
       "      <td>36</td>\n",
       "      <td>35</td>\n",
       "      <td>38</td>\n",
       "      <td>10</td>\n",
       "      <td>3</td>\n",
       "      <td>2</td>\n",
       "      <td>37</td>\n",
       "      <td>...</td>\n",
       "      <td>37.000000</td>\n",
       "      <td>37.000000</td>\n",
       "      <td>24.000000</td>\n",
       "      <td>19.000000</td>\n",
       "      <td>37</td>\n",
       "      <td>28</td>\n",
       "      <td>37.000000</td>\n",
       "      <td>37</td>\n",
       "      <td>38</td>\n",
       "      <td>5</td>\n",
       "    </tr>\n",
       "    <tr>\n",
       "      <th>unique</th>\n",
       "      <td>38</td>\n",
       "      <td>NaN</td>\n",
       "      <td>NaN</td>\n",
       "      <td>4</td>\n",
       "      <td>6</td>\n",
       "      <td>11</td>\n",
       "      <td>7</td>\n",
       "      <td>2</td>\n",
       "      <td>1</td>\n",
       "      <td>12</td>\n",
       "      <td>...</td>\n",
       "      <td>NaN</td>\n",
       "      <td>NaN</td>\n",
       "      <td>NaN</td>\n",
       "      <td>NaN</td>\n",
       "      <td>31</td>\n",
       "      <td>28</td>\n",
       "      <td>NaN</td>\n",
       "      <td>27</td>\n",
       "      <td>7</td>\n",
       "      <td>5</td>\n",
       "    </tr>\n",
       "    <tr>\n",
       "      <th>top</th>\n",
       "      <td>Battle at the Mummer's Ford</td>\n",
       "      <td>NaN</td>\n",
       "      <td>NaN</td>\n",
       "      <td>Joffrey/Tommen Baratheon</td>\n",
       "      <td>Robb Stark</td>\n",
       "      <td>Lannister</td>\n",
       "      <td>Tully</td>\n",
       "      <td>Mormont</td>\n",
       "      <td>Glover</td>\n",
       "      <td>Lannister</td>\n",
       "      <td>...</td>\n",
       "      <td>NaN</td>\n",
       "      <td>NaN</td>\n",
       "      <td>NaN</td>\n",
       "      <td>NaN</td>\n",
       "      <td>Gregor Clegane</td>\n",
       "      <td>Jaime Lannister</td>\n",
       "      <td>NaN</td>\n",
       "      <td>Riverrun</td>\n",
       "      <td>The Riverlands</td>\n",
       "      <td>Greyjoy's troop number based on the Battle of ...</td>\n",
       "    </tr>\n",
       "    <tr>\n",
       "      <th>freq</th>\n",
       "      <td>1</td>\n",
       "      <td>NaN</td>\n",
       "      <td>NaN</td>\n",
       "      <td>14</td>\n",
       "      <td>14</td>\n",
       "      <td>8</td>\n",
       "      <td>3</td>\n",
       "      <td>2</td>\n",
       "      <td>2</td>\n",
       "      <td>9</td>\n",
       "      <td>...</td>\n",
       "      <td>NaN</td>\n",
       "      <td>NaN</td>\n",
       "      <td>NaN</td>\n",
       "      <td>NaN</td>\n",
       "      <td>4</td>\n",
       "      <td>1</td>\n",
       "      <td>NaN</td>\n",
       "      <td>3</td>\n",
       "      <td>17</td>\n",
       "      <td>1</td>\n",
       "    </tr>\n",
       "    <tr>\n",
       "      <th>mean</th>\n",
       "      <td>NaN</td>\n",
       "      <td>299.105263</td>\n",
       "      <td>19.500000</td>\n",
       "      <td>NaN</td>\n",
       "      <td>NaN</td>\n",
       "      <td>NaN</td>\n",
       "      <td>NaN</td>\n",
       "      <td>NaN</td>\n",
       "      <td>NaN</td>\n",
       "      <td>NaN</td>\n",
       "      <td>...</td>\n",
       "      <td>0.351351</td>\n",
       "      <td>0.297297</td>\n",
       "      <td>9942.541667</td>\n",
       "      <td>6428.157895</td>\n",
       "      <td>NaN</td>\n",
       "      <td>NaN</td>\n",
       "      <td>0.702703</td>\n",
       "      <td>NaN</td>\n",
       "      <td>NaN</td>\n",
       "      <td>NaN</td>\n",
       "    </tr>\n",
       "    <tr>\n",
       "      <th>std</th>\n",
       "      <td>NaN</td>\n",
       "      <td>0.689280</td>\n",
       "      <td>11.113055</td>\n",
       "      <td>NaN</td>\n",
       "      <td>NaN</td>\n",
       "      <td>NaN</td>\n",
       "      <td>NaN</td>\n",
       "      <td>NaN</td>\n",
       "      <td>NaN</td>\n",
       "      <td>NaN</td>\n",
       "      <td>...</td>\n",
       "      <td>0.483978</td>\n",
       "      <td>0.463373</td>\n",
       "      <td>20283.092065</td>\n",
       "      <td>6225.182106</td>\n",
       "      <td>NaN</td>\n",
       "      <td>NaN</td>\n",
       "      <td>0.463373</td>\n",
       "      <td>NaN</td>\n",
       "      <td>NaN</td>\n",
       "      <td>NaN</td>\n",
       "    </tr>\n",
       "    <tr>\n",
       "      <th>min</th>\n",
       "      <td>NaN</td>\n",
       "      <td>298.000000</td>\n",
       "      <td>1.000000</td>\n",
       "      <td>NaN</td>\n",
       "      <td>NaN</td>\n",
       "      <td>NaN</td>\n",
       "      <td>NaN</td>\n",
       "      <td>NaN</td>\n",
       "      <td>NaN</td>\n",
       "      <td>NaN</td>\n",
       "      <td>...</td>\n",
       "      <td>0.000000</td>\n",
       "      <td>0.000000</td>\n",
       "      <td>20.000000</td>\n",
       "      <td>100.000000</td>\n",
       "      <td>NaN</td>\n",
       "      <td>NaN</td>\n",
       "      <td>0.000000</td>\n",
       "      <td>NaN</td>\n",
       "      <td>NaN</td>\n",
       "      <td>NaN</td>\n",
       "    </tr>\n",
       "    <tr>\n",
       "      <th>25%</th>\n",
       "      <td>NaN</td>\n",
       "      <td>299.000000</td>\n",
       "      <td>10.250000</td>\n",
       "      <td>NaN</td>\n",
       "      <td>NaN</td>\n",
       "      <td>NaN</td>\n",
       "      <td>NaN</td>\n",
       "      <td>NaN</td>\n",
       "      <td>NaN</td>\n",
       "      <td>NaN</td>\n",
       "      <td>...</td>\n",
       "      <td>0.000000</td>\n",
       "      <td>0.000000</td>\n",
       "      <td>1375.000000</td>\n",
       "      <td>1070.000000</td>\n",
       "      <td>NaN</td>\n",
       "      <td>NaN</td>\n",
       "      <td>0.000000</td>\n",
       "      <td>NaN</td>\n",
       "      <td>NaN</td>\n",
       "      <td>NaN</td>\n",
       "    </tr>\n",
       "    <tr>\n",
       "      <th>50%</th>\n",
       "      <td>NaN</td>\n",
       "      <td>299.000000</td>\n",
       "      <td>19.500000</td>\n",
       "      <td>NaN</td>\n",
       "      <td>NaN</td>\n",
       "      <td>NaN</td>\n",
       "      <td>NaN</td>\n",
       "      <td>NaN</td>\n",
       "      <td>NaN</td>\n",
       "      <td>NaN</td>\n",
       "      <td>...</td>\n",
       "      <td>0.000000</td>\n",
       "      <td>0.000000</td>\n",
       "      <td>4000.000000</td>\n",
       "      <td>6000.000000</td>\n",
       "      <td>NaN</td>\n",
       "      <td>NaN</td>\n",
       "      <td>1.000000</td>\n",
       "      <td>NaN</td>\n",
       "      <td>NaN</td>\n",
       "      <td>NaN</td>\n",
       "    </tr>\n",
       "    <tr>\n",
       "      <th>75%</th>\n",
       "      <td>NaN</td>\n",
       "      <td>300.000000</td>\n",
       "      <td>28.750000</td>\n",
       "      <td>NaN</td>\n",
       "      <td>NaN</td>\n",
       "      <td>NaN</td>\n",
       "      <td>NaN</td>\n",
       "      <td>NaN</td>\n",
       "      <td>NaN</td>\n",
       "      <td>NaN</td>\n",
       "      <td>...</td>\n",
       "      <td>1.000000</td>\n",
       "      <td>1.000000</td>\n",
       "      <td>8250.000000</td>\n",
       "      <td>10000.000000</td>\n",
       "      <td>NaN</td>\n",
       "      <td>NaN</td>\n",
       "      <td>1.000000</td>\n",
       "      <td>NaN</td>\n",
       "      <td>NaN</td>\n",
       "      <td>NaN</td>\n",
       "    </tr>\n",
       "    <tr>\n",
       "      <th>max</th>\n",
       "      <td>NaN</td>\n",
       "      <td>300.000000</td>\n",
       "      <td>38.000000</td>\n",
       "      <td>NaN</td>\n",
       "      <td>NaN</td>\n",
       "      <td>NaN</td>\n",
       "      <td>NaN</td>\n",
       "      <td>NaN</td>\n",
       "      <td>NaN</td>\n",
       "      <td>NaN</td>\n",
       "      <td>...</td>\n",
       "      <td>1.000000</td>\n",
       "      <td>1.000000</td>\n",
       "      <td>100000.000000</td>\n",
       "      <td>20000.000000</td>\n",
       "      <td>NaN</td>\n",
       "      <td>NaN</td>\n",
       "      <td>1.000000</td>\n",
       "      <td>NaN</td>\n",
       "      <td>NaN</td>\n",
       "      <td>NaN</td>\n",
       "    </tr>\n",
       "  </tbody>\n",
       "</table>\n",
       "<p>11 rows × 25 columns</p>\n",
       "</div>"
      ],
      "text/plain": [
       "                               name        year  battle_number  \\\n",
       "count                            38   38.000000      38.000000   \n",
       "unique                           38         NaN            NaN   \n",
       "top     Battle at the Mummer's Ford         NaN            NaN   \n",
       "freq                              1         NaN            NaN   \n",
       "mean                            NaN  299.105263      19.500000   \n",
       "std                             NaN    0.689280      11.113055   \n",
       "min                             NaN  298.000000       1.000000   \n",
       "25%                             NaN  299.000000      10.250000   \n",
       "50%                             NaN  299.000000      19.500000   \n",
       "75%                             NaN  300.000000      28.750000   \n",
       "max                             NaN  300.000000      38.000000   \n",
       "\n",
       "                   attacker_king defender_king attacker_1 attacker_2  \\\n",
       "count                         36            35         38         10   \n",
       "unique                         4             6         11          7   \n",
       "top     Joffrey/Tommen Baratheon    Robb Stark  Lannister      Tully   \n",
       "freq                          14            14          8          3   \n",
       "mean                         NaN           NaN        NaN        NaN   \n",
       "std                          NaN           NaN        NaN        NaN   \n",
       "min                          NaN           NaN        NaN        NaN   \n",
       "25%                          NaN           NaN        NaN        NaN   \n",
       "50%                          NaN           NaN        NaN        NaN   \n",
       "75%                          NaN           NaN        NaN        NaN   \n",
       "max                          NaN           NaN        NaN        NaN   \n",
       "\n",
       "       attacker_3 attacker_4 defender_1  \\\n",
       "count           3          2         37   \n",
       "unique          2          1         12   \n",
       "top       Mormont     Glover  Lannister   \n",
       "freq            2          2          9   \n",
       "mean          NaN        NaN        NaN   \n",
       "std           NaN        NaN        NaN   \n",
       "min           NaN        NaN        NaN   \n",
       "25%           NaN        NaN        NaN   \n",
       "50%           NaN        NaN        NaN   \n",
       "75%           NaN        NaN        NaN   \n",
       "max           NaN        NaN        NaN   \n",
       "\n",
       "                              ...                         major_death  \\\n",
       "count                         ...                           37.000000   \n",
       "unique                        ...                                 NaN   \n",
       "top                           ...                                 NaN   \n",
       "freq                          ...                                 NaN   \n",
       "mean                          ...                            0.351351   \n",
       "std                           ...                            0.483978   \n",
       "min                           ...                            0.000000   \n",
       "25%                           ...                            0.000000   \n",
       "50%                           ...                            0.000000   \n",
       "75%                           ...                            1.000000   \n",
       "max                           ...                            1.000000   \n",
       "\n",
       "        major_capture  attacker_size defender_size attacker_commander  \\\n",
       "count       37.000000      24.000000     19.000000                 37   \n",
       "unique            NaN            NaN           NaN                 31   \n",
       "top               NaN            NaN           NaN     Gregor Clegane   \n",
       "freq              NaN            NaN           NaN                  4   \n",
       "mean         0.297297    9942.541667   6428.157895                NaN   \n",
       "std          0.463373   20283.092065   6225.182106                NaN   \n",
       "min          0.000000      20.000000    100.000000                NaN   \n",
       "25%          0.000000    1375.000000   1070.000000                NaN   \n",
       "50%          0.000000    4000.000000   6000.000000                NaN   \n",
       "75%          1.000000    8250.000000  10000.000000                NaN   \n",
       "max          1.000000  100000.000000  20000.000000                NaN   \n",
       "\n",
       "        defender_commander     summer  location          region  \\\n",
       "count                   28  37.000000        37              38   \n",
       "unique                  28        NaN        27               7   \n",
       "top        Jaime Lannister        NaN  Riverrun  The Riverlands   \n",
       "freq                     1        NaN         3              17   \n",
       "mean                   NaN   0.702703       NaN             NaN   \n",
       "std                    NaN   0.463373       NaN             NaN   \n",
       "min                    NaN   0.000000       NaN             NaN   \n",
       "25%                    NaN   0.000000       NaN             NaN   \n",
       "50%                    NaN   1.000000       NaN             NaN   \n",
       "75%                    NaN   1.000000       NaN             NaN   \n",
       "max                    NaN   1.000000       NaN             NaN   \n",
       "\n",
       "                                                     note  \n",
       "count                                                   5  \n",
       "unique                                                  5  \n",
       "top     Greyjoy's troop number based on the Battle of ...  \n",
       "freq                                                    1  \n",
       "mean                                                  NaN  \n",
       "std                                                   NaN  \n",
       "min                                                   NaN  \n",
       "25%                                                   NaN  \n",
       "50%                                                   NaN  \n",
       "75%                                                   NaN  \n",
       "max                                                   NaN  \n",
       "\n",
       "[11 rows x 25 columns]"
      ]
     },
     "execution_count": 6,
     "metadata": {},
     "output_type": "execute_result"
    }
   ],
   "source": [
    "data.describe(include='all')"
   ]
  },
  {
   "cell_type": "code",
   "execution_count": 7,
   "metadata": {},
   "outputs": [],
   "source": [
    "# 数据清洗"
   ]
  },
  {
   "cell_type": "code",
   "execution_count": 8,
   "metadata": {
    "scrolled": true
   },
   "outputs": [],
   "source": [
    "# 删除不需要的行\n",
    "df = data.drop(['defender_3', 'defender_4', 'note'], axis=1)"
   ]
  },
  {
   "cell_type": "code",
   "execution_count": 9,
   "metadata": {
    "scrolled": true
   },
   "outputs": [
    {
     "data": {
      "text/html": [
       "<div>\n",
       "<style scoped>\n",
       "    .dataframe tbody tr th:only-of-type {\n",
       "        vertical-align: middle;\n",
       "    }\n",
       "\n",
       "    .dataframe tbody tr th {\n",
       "        vertical-align: top;\n",
       "    }\n",
       "\n",
       "    .dataframe thead th {\n",
       "        text-align: right;\n",
       "    }\n",
       "</style>\n",
       "<table border=\"1\" class=\"dataframe\">\n",
       "  <thead>\n",
       "    <tr style=\"text-align: right;\">\n",
       "      <th></th>\n",
       "      <th>name</th>\n",
       "      <th>attacker_king</th>\n",
       "      <th>defender_king</th>\n",
       "    </tr>\n",
       "  </thead>\n",
       "  <tbody>\n",
       "    <tr>\n",
       "      <th>0</th>\n",
       "      <td>Battle of the Golden Tooth</td>\n",
       "      <td>Joffrey/Tommen Baratheon</td>\n",
       "      <td>Robb Stark</td>\n",
       "    </tr>\n",
       "    <tr>\n",
       "      <th>1</th>\n",
       "      <td>Battle at the Mummer's Ford</td>\n",
       "      <td>Joffrey/Tommen Baratheon</td>\n",
       "      <td>Robb Stark</td>\n",
       "    </tr>\n",
       "    <tr>\n",
       "      <th>2</th>\n",
       "      <td>Battle of Riverrun</td>\n",
       "      <td>Joffrey/Tommen Baratheon</td>\n",
       "      <td>Robb Stark</td>\n",
       "    </tr>\n",
       "    <tr>\n",
       "      <th>3</th>\n",
       "      <td>Battle of the Green Fork</td>\n",
       "      <td>Robb Stark</td>\n",
       "      <td>Joffrey/Tommen Baratheon</td>\n",
       "    </tr>\n",
       "    <tr>\n",
       "      <th>4</th>\n",
       "      <td>Battle of the Whispering Wood</td>\n",
       "      <td>Robb Stark</td>\n",
       "      <td>Joffrey/Tommen Baratheon</td>\n",
       "    </tr>\n",
       "    <tr>\n",
       "      <th>5</th>\n",
       "      <td>Battle of the Camps</td>\n",
       "      <td>Robb Stark</td>\n",
       "      <td>Joffrey/Tommen Baratheon</td>\n",
       "    </tr>\n",
       "    <tr>\n",
       "      <th>6</th>\n",
       "      <td>Sack of Darry</td>\n",
       "      <td>Joffrey/Tommen Baratheon</td>\n",
       "      <td>Robb Stark</td>\n",
       "    </tr>\n",
       "    <tr>\n",
       "      <th>7</th>\n",
       "      <td>Battle of Moat Cailin</td>\n",
       "      <td>Balon/Euron Greyjoy</td>\n",
       "      <td>Robb Stark</td>\n",
       "    </tr>\n",
       "    <tr>\n",
       "      <th>8</th>\n",
       "      <td>Battle of Deepwood Motte</td>\n",
       "      <td>Balon/Euron Greyjoy</td>\n",
       "      <td>Robb Stark</td>\n",
       "    </tr>\n",
       "    <tr>\n",
       "      <th>9</th>\n",
       "      <td>Battle of the Stony Shore</td>\n",
       "      <td>Balon/Euron Greyjoy</td>\n",
       "      <td>Robb Stark</td>\n",
       "    </tr>\n",
       "    <tr>\n",
       "      <th>10</th>\n",
       "      <td>Battle of Torrhen's Square</td>\n",
       "      <td>Robb Stark</td>\n",
       "      <td>Balon/Euron Greyjoy</td>\n",
       "    </tr>\n",
       "    <tr>\n",
       "      <th>11</th>\n",
       "      <td>Battle of Winterfell</td>\n",
       "      <td>Balon/Euron Greyjoy</td>\n",
       "      <td>Robb Stark</td>\n",
       "    </tr>\n",
       "    <tr>\n",
       "      <th>12</th>\n",
       "      <td>Sack of Torrhen's Square</td>\n",
       "      <td>Balon/Euron Greyjoy</td>\n",
       "      <td>Balon/Euron Greyjoy</td>\n",
       "    </tr>\n",
       "    <tr>\n",
       "      <th>13</th>\n",
       "      <td>Sack of Winterfell</td>\n",
       "      <td>Joffrey/Tommen Baratheon</td>\n",
       "      <td>Robb Stark</td>\n",
       "    </tr>\n",
       "    <tr>\n",
       "      <th>14</th>\n",
       "      <td>Battle of Oxcross</td>\n",
       "      <td>Robb Stark</td>\n",
       "      <td>Joffrey/Tommen Baratheon</td>\n",
       "    </tr>\n",
       "    <tr>\n",
       "      <th>15</th>\n",
       "      <td>Siege of Storm's End</td>\n",
       "      <td>Stannis Baratheon</td>\n",
       "      <td>Renly Baratheon</td>\n",
       "    </tr>\n",
       "    <tr>\n",
       "      <th>16</th>\n",
       "      <td>Battle of the Fords</td>\n",
       "      <td>Joffrey/Tommen Baratheon</td>\n",
       "      <td>Robb Stark</td>\n",
       "    </tr>\n",
       "    <tr>\n",
       "      <th>17</th>\n",
       "      <td>Sack of Harrenhal</td>\n",
       "      <td>Robb Stark</td>\n",
       "      <td>Joffrey/Tommen Baratheon</td>\n",
       "    </tr>\n",
       "    <tr>\n",
       "      <th>18</th>\n",
       "      <td>Battle of the Crag</td>\n",
       "      <td>Robb Stark</td>\n",
       "      <td>Joffrey/Tommen Baratheon</td>\n",
       "    </tr>\n",
       "    <tr>\n",
       "      <th>19</th>\n",
       "      <td>Battle of the Blackwater</td>\n",
       "      <td>Stannis Baratheon</td>\n",
       "      <td>Joffrey/Tommen Baratheon</td>\n",
       "    </tr>\n",
       "    <tr>\n",
       "      <th>20</th>\n",
       "      <td>Siege of Darry</td>\n",
       "      <td>Robb Stark</td>\n",
       "      <td>Joffrey/Tommen Baratheon</td>\n",
       "    </tr>\n",
       "    <tr>\n",
       "      <th>21</th>\n",
       "      <td>Battle of Duskendale</td>\n",
       "      <td>Robb Stark</td>\n",
       "      <td>Joffrey/Tommen Baratheon</td>\n",
       "    </tr>\n",
       "    <tr>\n",
       "      <th>22</th>\n",
       "      <td>Battle of the Burning Septry</td>\n",
       "      <td>NaN</td>\n",
       "      <td>NaN</td>\n",
       "    </tr>\n",
       "    <tr>\n",
       "      <th>23</th>\n",
       "      <td>Battle of the Ruby Ford</td>\n",
       "      <td>Joffrey/Tommen Baratheon</td>\n",
       "      <td>Robb Stark</td>\n",
       "    </tr>\n",
       "    <tr>\n",
       "      <th>24</th>\n",
       "      <td>Retaking of Harrenhal</td>\n",
       "      <td>Joffrey/Tommen Baratheon</td>\n",
       "      <td>NaN</td>\n",
       "    </tr>\n",
       "    <tr>\n",
       "      <th>25</th>\n",
       "      <td>The Red Wedding</td>\n",
       "      <td>Joffrey/Tommen Baratheon</td>\n",
       "      <td>Robb Stark</td>\n",
       "    </tr>\n",
       "    <tr>\n",
       "      <th>26</th>\n",
       "      <td>Siege of Seagard</td>\n",
       "      <td>Robb Stark</td>\n",
       "      <td>Joffrey/Tommen Baratheon</td>\n",
       "    </tr>\n",
       "    <tr>\n",
       "      <th>27</th>\n",
       "      <td>Battle of Castle Black</td>\n",
       "      <td>Stannis Baratheon</td>\n",
       "      <td>Mance Rayder</td>\n",
       "    </tr>\n",
       "    <tr>\n",
       "      <th>28</th>\n",
       "      <td>Fall of Moat Cailin</td>\n",
       "      <td>Joffrey/Tommen Baratheon</td>\n",
       "      <td>Balon/Euron Greyjoy</td>\n",
       "    </tr>\n",
       "    <tr>\n",
       "      <th>29</th>\n",
       "      <td>Sack of Saltpans</td>\n",
       "      <td>NaN</td>\n",
       "      <td>NaN</td>\n",
       "    </tr>\n",
       "    <tr>\n",
       "      <th>30</th>\n",
       "      <td>Retaking of Deepwood Motte</td>\n",
       "      <td>Stannis Baratheon</td>\n",
       "      <td>Balon/Euron Greyjoy</td>\n",
       "    </tr>\n",
       "    <tr>\n",
       "      <th>31</th>\n",
       "      <td>Battle of the Shield Islands</td>\n",
       "      <td>Balon/Euron Greyjoy</td>\n",
       "      <td>Joffrey/Tommen Baratheon</td>\n",
       "    </tr>\n",
       "    <tr>\n",
       "      <th>32</th>\n",
       "      <td>Invasion of Ryamsport, Vinetown, and Starfish ...</td>\n",
       "      <td>Balon/Euron Greyjoy</td>\n",
       "      <td>Joffrey/Tommen Baratheon</td>\n",
       "    </tr>\n",
       "    <tr>\n",
       "      <th>33</th>\n",
       "      <td>Second Seige of Storm's End</td>\n",
       "      <td>Joffrey/Tommen Baratheon</td>\n",
       "      <td>Stannis Baratheon</td>\n",
       "    </tr>\n",
       "    <tr>\n",
       "      <th>34</th>\n",
       "      <td>Siege of Dragonstone</td>\n",
       "      <td>Joffrey/Tommen Baratheon</td>\n",
       "      <td>Stannis Baratheon</td>\n",
       "    </tr>\n",
       "    <tr>\n",
       "      <th>35</th>\n",
       "      <td>Siege of Riverrun</td>\n",
       "      <td>Joffrey/Tommen Baratheon</td>\n",
       "      <td>Robb Stark</td>\n",
       "    </tr>\n",
       "    <tr>\n",
       "      <th>36</th>\n",
       "      <td>Siege of Raventree</td>\n",
       "      <td>Joffrey/Tommen Baratheon</td>\n",
       "      <td>Robb Stark</td>\n",
       "    </tr>\n",
       "    <tr>\n",
       "      <th>37</th>\n",
       "      <td>Siege of Winterfell</td>\n",
       "      <td>Stannis Baratheon</td>\n",
       "      <td>Joffrey/Tommen Baratheon</td>\n",
       "    </tr>\n",
       "  </tbody>\n",
       "</table>\n",
       "</div>"
      ],
      "text/plain": [
       "                                                 name  \\\n",
       "0                          Battle of the Golden Tooth   \n",
       "1                         Battle at the Mummer's Ford   \n",
       "2                                  Battle of Riverrun   \n",
       "3                            Battle of the Green Fork   \n",
       "4                       Battle of the Whispering Wood   \n",
       "5                                 Battle of the Camps   \n",
       "6                                       Sack of Darry   \n",
       "7                               Battle of Moat Cailin   \n",
       "8                            Battle of Deepwood Motte   \n",
       "9                           Battle of the Stony Shore   \n",
       "10                         Battle of Torrhen's Square   \n",
       "11                               Battle of Winterfell   \n",
       "12                           Sack of Torrhen's Square   \n",
       "13                                 Sack of Winterfell   \n",
       "14                                  Battle of Oxcross   \n",
       "15                               Siege of Storm's End   \n",
       "16                                Battle of the Fords   \n",
       "17                                  Sack of Harrenhal   \n",
       "18                                 Battle of the Crag   \n",
       "19                           Battle of the Blackwater   \n",
       "20                                     Siege of Darry   \n",
       "21                               Battle of Duskendale   \n",
       "22                       Battle of the Burning Septry   \n",
       "23                            Battle of the Ruby Ford   \n",
       "24                              Retaking of Harrenhal   \n",
       "25                                    The Red Wedding   \n",
       "26                                   Siege of Seagard   \n",
       "27                             Battle of Castle Black   \n",
       "28                                Fall of Moat Cailin   \n",
       "29                                   Sack of Saltpans   \n",
       "30                         Retaking of Deepwood Motte   \n",
       "31                       Battle of the Shield Islands   \n",
       "32  Invasion of Ryamsport, Vinetown, and Starfish ...   \n",
       "33                        Second Seige of Storm's End   \n",
       "34                               Siege of Dragonstone   \n",
       "35                                  Siege of Riverrun   \n",
       "36                                 Siege of Raventree   \n",
       "37                                Siege of Winterfell   \n",
       "\n",
       "               attacker_king             defender_king  \n",
       "0   Joffrey/Tommen Baratheon                Robb Stark  \n",
       "1   Joffrey/Tommen Baratheon                Robb Stark  \n",
       "2   Joffrey/Tommen Baratheon                Robb Stark  \n",
       "3                 Robb Stark  Joffrey/Tommen Baratheon  \n",
       "4                 Robb Stark  Joffrey/Tommen Baratheon  \n",
       "5                 Robb Stark  Joffrey/Tommen Baratheon  \n",
       "6   Joffrey/Tommen Baratheon                Robb Stark  \n",
       "7        Balon/Euron Greyjoy                Robb Stark  \n",
       "8        Balon/Euron Greyjoy                Robb Stark  \n",
       "9        Balon/Euron Greyjoy                Robb Stark  \n",
       "10                Robb Stark       Balon/Euron Greyjoy  \n",
       "11       Balon/Euron Greyjoy                Robb Stark  \n",
       "12       Balon/Euron Greyjoy       Balon/Euron Greyjoy  \n",
       "13  Joffrey/Tommen Baratheon                Robb Stark  \n",
       "14                Robb Stark  Joffrey/Tommen Baratheon  \n",
       "15         Stannis Baratheon           Renly Baratheon  \n",
       "16  Joffrey/Tommen Baratheon                Robb Stark  \n",
       "17                Robb Stark  Joffrey/Tommen Baratheon  \n",
       "18                Robb Stark  Joffrey/Tommen Baratheon  \n",
       "19         Stannis Baratheon  Joffrey/Tommen Baratheon  \n",
       "20                Robb Stark  Joffrey/Tommen Baratheon  \n",
       "21                Robb Stark  Joffrey/Tommen Baratheon  \n",
       "22                       NaN                       NaN  \n",
       "23  Joffrey/Tommen Baratheon                Robb Stark  \n",
       "24  Joffrey/Tommen Baratheon                       NaN  \n",
       "25  Joffrey/Tommen Baratheon                Robb Stark  \n",
       "26                Robb Stark  Joffrey/Tommen Baratheon  \n",
       "27         Stannis Baratheon              Mance Rayder  \n",
       "28  Joffrey/Tommen Baratheon       Balon/Euron Greyjoy  \n",
       "29                       NaN                       NaN  \n",
       "30         Stannis Baratheon       Balon/Euron Greyjoy  \n",
       "31       Balon/Euron Greyjoy  Joffrey/Tommen Baratheon  \n",
       "32       Balon/Euron Greyjoy  Joffrey/Tommen Baratheon  \n",
       "33  Joffrey/Tommen Baratheon         Stannis Baratheon  \n",
       "34  Joffrey/Tommen Baratheon         Stannis Baratheon  \n",
       "35  Joffrey/Tommen Baratheon                Robb Stark  \n",
       "36  Joffrey/Tommen Baratheon                Robb Stark  \n",
       "37         Stannis Baratheon  Joffrey/Tommen Baratheon  "
      ]
     },
     "execution_count": 9,
     "metadata": {},
     "output_type": "execute_result"
    }
   ],
   "source": [
    "# 查看攻击方和防守方国王列的数据\n",
    "df[['name','attacker_king','defender_king']]"
   ]
  },
  {
   "cell_type": "markdown",
   "metadata": {},
   "source": [
    "可见有两场战役的攻击方和防守方均无国王，‘Retaking of Harrenhal’战役的防守方无国王。"
   ]
  },
  {
   "cell_type": "code",
   "execution_count": 10,
   "metadata": {},
   "outputs": [],
   "source": [
    "# 处理攻击方和防守方国王列的缺失值，填充为‘No King’\n",
    "df.loc[:,'attacker_king':'defender_king'] = df.loc[:,'attacker_king':'defender_king'].fillna('No King')"
   ]
  },
  {
   "cell_type": "code",
   "execution_count": 11,
   "metadata": {},
   "outputs": [],
   "source": [
    "# 填充攻击方和防守方将领，主要指挥官缺失值为‘No’\n",
    "df.loc[:,'attacker_1':'defender_2'] = df.loc[:,'attacker_1':'defender_2'].fillna('No')\n",
    "df.loc[:,'attacker_commander':'defender_commander'] = df.loc[:,'attacker_commander':'defender_commander'].fillna('No')"
   ]
  },
  {
   "cell_type": "code",
   "execution_count": 12,
   "metadata": {},
   "outputs": [],
   "source": [
    "# 删除最后一场战役数据，因为含有过多缺失值，且无战争结果，对决定战争胜利因素的最终分析影响不大\n",
    "df = df.iloc[:-1,:]"
   ]
  },
  {
   "cell_type": "code",
   "execution_count": 13,
   "metadata": {},
   "outputs": [],
   "source": [
    "# 填充地点的缺失值为'Unknown'\n",
    "df['location'].fillna('Unknown', inplace=True)"
   ]
  },
  {
   "cell_type": "code",
   "execution_count": 14,
   "metadata": {},
   "outputs": [
    {
     "name": "stdout",
     "output_type": "stream",
     "text": [
      "<class 'pandas.core.frame.DataFrame'>\n",
      "RangeIndex: 37 entries, 0 to 36\n",
      "Data columns (total 22 columns):\n",
      "name                  37 non-null object\n",
      "year                  37 non-null int64\n",
      "battle_number         37 non-null int64\n",
      "attacker_king         37 non-null object\n",
      "defender_king         37 non-null object\n",
      "attacker_1            37 non-null object\n",
      "attacker_2            37 non-null object\n",
      "attacker_3            37 non-null object\n",
      "attacker_4            37 non-null object\n",
      "defender_1            37 non-null object\n",
      "defender_2            37 non-null object\n",
      "attacker_outcome      37 non-null object\n",
      "battle_type           37 non-null object\n",
      "major_death           37 non-null float64\n",
      "major_capture         37 non-null float64\n",
      "attacker_size         23 non-null float64\n",
      "defender_size         18 non-null float64\n",
      "attacker_commander    37 non-null object\n",
      "defender_commander    37 non-null object\n",
      "summer                36 non-null float64\n",
      "location              37 non-null object\n",
      "region                37 non-null object\n",
      "dtypes: float64(5), int64(2), object(15)\n",
      "memory usage: 6.4+ KB\n"
     ]
    }
   ],
   "source": [
    "# 查看当前数据的基本信息\n",
    "df.info()"
   ]
  },
  {
   "cell_type": "markdown",
   "metadata": {},
   "source": [
    "数据清洗完成，因为无法用准确数字代替，所以保留float64数据格式的列的缺失值。"
   ]
  },
  {
   "cell_type": "markdown",
   "metadata": {},
   "source": [
    "## 数据探索分析"
   ]
  },
  {
   "cell_type": "code",
   "execution_count": 15,
   "metadata": {
    "scrolled": true
   },
   "outputs": [
    {
     "data": {
      "text/plain": [
       "Text(0.5,1,'Wars in Different Years')"
      ]
     },
     "execution_count": 15,
     "metadata": {},
     "output_type": "execute_result"
    },
    {
     "data": {
      "image/png": "[encoded data removed]",
      "text/plain": [
       "<Figure size 432x288 with 1 Axes>"
      ]
     },
     "metadata": {},
     "output_type": "display_data"
    }
   ],
   "source": [
    "# 1.战争发生年份的分布\n",
    "df['year'].value_counts().sort_index(ascending=False).plot.barh(color=one_color)\n",
    "plt.title('Wars in Different Years')"
   ]
  },
  {
   "cell_type": "markdown",
   "metadata": {},
   "source": [
    "全部战争发生在298年到300年，超过一半的战争发生在299年，这是一个多事之秋。"
   ]
  },
  {
   "cell_type": "code",
   "execution_count": 16,
   "metadata": {
    "scrolled": false
   },
   "outputs": [
    {
     "data": {
      "image/png": "[encoded data removed]",
      "text/plain": [
       "<Figure size 432x504 with 1 Axes>"
      ]
     },
     "metadata": {},
     "output_type": "display_data"
    },
    {
     "data": {
      "text/plain": [
       "region           attacker_outcome\n",
       "Beyond the Wall  loss                 1\n",
       "The Crownlands   loss                 2\n",
       "The North        win                  9\n",
       "The Reach        win                  2\n",
       "The Riverlands   win                 15\n",
       "                 loss                 2\n",
       "The Stormlands   win                  3\n",
       "The Westerlands  win                  3\n",
       "Name: attacker_outcome, dtype: int64"
      ]
     },
     "execution_count": 16,
     "metadata": {},
     "output_type": "execute_result"
    }
   ],
   "source": [
    "# 2.哪一个区域发生最多的战争及各区域的攻击方战果如何？\n",
    "# 制作饼图\n",
    "values = df['region'].value_counts()\n",
    "labels = df['region'].value_counts().index\n",
    "fig1, ax1 = plt.subplots(figsize=(6,7))\n",
    "ax1.pie(values, labels=labels, autopct=\"%1.1f%%\", startangle=90, textprops={'fontsize':10}, colors=ten_color)\n",
    "ax1.axis('equal')\n",
    "ax1.set_title('Wars in Different Regions')\n",
    "plt.show()\n",
    "\n",
    "# 探索战争区域对胜利的影响\n",
    "df.groupby('region')['attacker_outcome'].value_counts()"
   ]
  },
  {
   "cell_type": "markdown",
   "metadata": {},
   "source": [
    "接近一半的战争发生在The Riverlands，另外四分之一发生在The North，这两个区域是冰与火之歌的主战场。\n",
    "出现在Beyond the Wall和The Crownlands的三场战斗攻击方均失利，攻击方的另外两场失利发生在主战场The Riverlands，但攻击方仍然在这里达到了胜率的平均水平，而在其他区域包括第二主战场The North，攻击方保持了全胜。攻击方应该尽量避免在Beyond the Wall和The Crownlans交战，可能这两个区域的地理情况导致易守难攻。"
   ]
  },
  {
   "cell_type": "code",
   "execution_count": 17,
   "metadata": {},
   "outputs": [
    {
     "name": "stdout",
     "output_type": "stream",
     "text": [
      "The Count of Attacker Outcome\n",
      "win     32\n",
      "loss     5\n",
      "Name: attacker_outcome, dtype: int64\n",
      "win     0.864865\n",
      "loss    0.135135\n",
      "Name: attacker_outcome, dtype: float64\n"
     ]
    },
    {
     "data": {
      "image/png": "[encoded data removed]",
      "text/plain": [
       "<Figure size 432x288 with 1 Axes>"
      ]
     },
     "metadata": {},
     "output_type": "display_data"
    }
   ],
   "source": [
    "# 3. 战争结果的分布，即攻方的战果分布\n",
    "df['attacker_outcome'].value_counts(ascending=True).plot.barh(color=one_color)\n",
    "plt.title('Attacker Outcome')\n",
    "print('The Count of Attacker Outcome')\n",
    "print(df['attacker_outcome'].value_counts())\n",
    "print(df['attacker_outcome'].value_counts(normalize=True))"
   ]
  },
  {
   "cell_type": "markdown",
   "metadata": {},
   "source": [
    "由攻方战果统计可知，攻方胜率明显，有统计的37次中攻方获胜32次，胜率达到86%。为了胜利，大胆进攻吧！"
   ]
  },
  {
   "cell_type": "code",
   "execution_count": 18,
   "metadata": {
    "scrolled": true
   },
   "outputs": [
    {
     "data": {
      "text/plain": [
       "Text(0.5,1,'The Kings With Most Attacks')"
      ]
     },
     "execution_count": 18,
     "metadata": {},
     "output_type": "execute_result"
    },
    {
     "data": {
      "image/png": "[encoded data removed]",
      "text/plain": [
       "<Figure size 432x288 with 1 Axes>"
      ]
     },
     "metadata": {},
     "output_type": "display_data"
    }
   ],
   "source": [
    "# 4. 哪一个国王主动进攻次数最多？\n",
    "df['attacker_king'].value_counts(ascending=True).plot.barh(color=one_color)\n",
    "plt.title('The Kings With Most Attacks')"
   ]
  },
  {
   "cell_type": "code",
   "execution_count": 19,
   "metadata": {
    "scrolled": false
   },
   "outputs": [
    {
     "name": "stderr",
     "output_type": "stream",
     "text": [
      "/Library/Frameworks/Python.framework/Versions/3.7/lib/python3.7/site-packages/ipykernel_launcher.py:9: FutureWarning: Sorting because non-concatenation axis is not aligned. A future version\n",
      "of pandas will change to not sort by default.\n",
      "\n",
      "To accept the future behavior, pass 'sort=False'.\n",
      "\n",
      "To retain the current behavior and silence the warning, pass 'sort=True'.\n",
      "\n",
      "  if __name__ == '__main__':\n"
     ]
    },
    {
     "data": {
      "text/plain": [
       "Text(0.5,1,'Total Win&Loss of Each King')"
      ]
     },
     "execution_count": 19,
     "metadata": {},
     "output_type": "execute_result"
    },
    {
     "data": {
      "image/png": "[encoded data removed]",
      "text/plain": [
       "<Figure size 432x288 with 1 Axes>"
      ]
     },
     "metadata": {},
     "output_type": "display_data"
    }
   ],
   "source": [
    "# 5. 哪一个国王获得了最多的胜利？\n",
    "# 分别统计攻击方获胜国王和防守方获胜国王的数据\n",
    "attacker_win = df[df['attacker_outcome'] == 'win']['attacker_king'].value_counts()\n",
    "defender_win = df[df['attacker_outcome'] == 'loss']['defender_king'].value_counts()\n",
    "attacker_loss = df[df['attacker_outcome'] == 'loss']['attacker_king'].value_counts()\n",
    "defender_loss = df[df['attacker_outcome'] == 'win']['defender_king'].value_counts()\n",
    "\n",
    "# 合并同一个国王的攻击和防守数据为DataFrame\n",
    "total = pd.concat([attacker_win, defender_win, attacker_loss, defender_loss], axis=1)\n",
    "total.columns=['attacker_win', 'defender_win', 'attacker_loss', 'defender_loss']\n",
    "total.fillna(0, inplace=True)\n",
    "\n",
    "# 获胜和失败次数分别求和\n",
    "total['total_win'] = total['attacker_win'] + total['defender_win']\n",
    "total['total_loss'] = total['attacker_loss'] + total['defender_loss']\n",
    "total = total.sort_values(by='total_win').reset_index()\n",
    "\n",
    "\n",
    "# 通过条形图显示国王的胜负统计\n",
    "total.plot(x='index', y=['total_loss', 'total_win'], kind='barh', color=two_color)\n",
    "plt.title('Total Win&Loss of Each King')"
   ]
  },
  {
   "cell_type": "markdown",
   "metadata": {},
   "source": [
    "由上图可见，Joffrey/Tommen Baratheon获得了最多的胜利，Robb Stark失利次数最多。"
   ]
  },
  {
   "cell_type": "code",
   "execution_count": 20,
   "metadata": {
    "scrolled": true
   },
   "outputs": [
    {
     "data": {
      "text/plain": [
       "Text(0.5,1,'Attacker Outcome in Different Battle Type')"
      ]
     },
     "execution_count": 20,
     "metadata": {},
     "output_type": "execute_result"
    },
    {
     "data": {
      "image/png": "[encoded data removed]",
      "text/plain": [
       "<Figure size 432x288 with 1 Axes>"
      ]
     },
     "metadata": {},
     "output_type": "display_data"
    }
   ],
   "source": [
    "# 5. 哪种战争类别的攻击方更容易获胜？\n",
    "df.groupby('battle_type')['attacker_outcome'].value_counts().unstack().plot.barh(color=two_color)\n",
    "plt.xlim([0, 13])\n",
    "plt.legend(loc='lower right')\n",
    "plt.title('Attacker Outcome in Different Battle Type')"
   ]
  },
  {
   "cell_type": "markdown",
   "metadata": {},
   "source": [
    "由战争类别数据可知，遭遇战pitched battle、阵地战siege和技巧战（隐身或诡计）ambush出现频率最高，其中攻击方在阵地战，突袭战和技巧战的胜率极高，攻击方如果参加遭遇战，胜率会显著降低。"
   ]
  },
  {
   "cell_type": "code",
   "execution_count": 21,
   "metadata": {
    "scrolled": true
   },
   "outputs": [
    {
     "data": {
      "text/plain": [
       "Text(0.5,1,'Battle Type in Summer & Non-Summer')"
      ]
     },
     "execution_count": 21,
     "metadata": {},
     "output_type": "execute_result"
    },
    {
     "data": {
      "image/png": "[encoded data removed]",
      "text/plain": [
       "<Figure size 432x288 with 1 Axes>"
      ]
     },
     "metadata": {},
     "output_type": "display_data"
    }
   ],
   "source": [
    "# 5. 夏天发生的战争有什么特点？\n",
    "# 查看到夏天的战争类型特点\n",
    "df.groupby('summer')['battle_type'].value_counts().unstack().plot(kind='barh', cmap='tab10_r')\n",
    "plt.title('Battle Type in Summer & Non-Summer')"
   ]
  },
  {
   "cell_type": "markdown",
   "metadata": {},
   "source": [
    "夏天里遭遇战和技巧战较为频繁，技巧战只发生在夏天；非夏天时段阵地战是主要的战争类别，突袭战只发生在非夏天时段。"
   ]
  },
  {
   "cell_type": "code",
   "execution_count": 22,
   "metadata": {
    "scrolled": true
   },
   "outputs": [
    {
     "data": {
      "text/plain": [
       "summer  attacker_outcome\n",
       "0.0     win                 0.900000\n",
       "        loss                0.100000\n",
       "1.0     win                 0.846154\n",
       "        loss                0.153846\n",
       "Name: attacker_outcome, dtype: float64"
      ]
     },
     "execution_count": 22,
     "metadata": {},
     "output_type": "execute_result"
    }
   ],
   "source": [
    "# 夏天攻击方的胜率\n",
    "df.groupby('summer')['attacker_outcome'].value_counts(normalize=True)"
   ]
  },
  {
   "cell_type": "markdown",
   "metadata": {},
   "source": [
    "非夏天时段攻击方胜率略高于夏天时段。"
   ]
  },
  {
   "cell_type": "code",
   "execution_count": 23,
   "metadata": {
    "scrolled": false
   },
   "outputs": [
    {
     "data": {
      "text/plain": [
       "Text(0.5,1,'Attacker Outcome vs Different Battle Type / Summer')"
      ]
     },
     "execution_count": 23,
     "metadata": {},
     "output_type": "execute_result"
    },
    {
     "data": {
      "image/png": "[encoded data removed]",
      "text/plain": [
       "<Figure size 432x288 with 1 Axes>"
      ]
     },
     "metadata": {},
     "output_type": "display_data"
    }
   ],
   "source": [
    "# 查看夏天与非夏天时不同战争类型的胜负情况\n",
    "df.groupby(['summer', 'battle_type'])['attacker_outcome'].value_counts().sort_index().unstack().plot.barh(color=two_color)\n",
    "plt.title('Attacker Outcome vs Different Battle Type / Summer')"
   ]
  },
  {
   "cell_type": "markdown",
   "metadata": {},
   "source": [
    "夏天中，攻击方获得了阵地战和技巧战的全胜，遭遇战胜率显著低于其他战争类别胜率；在非夏天时段，攻击方采用阵地战仍然能保持较高胜率。"
   ]
  },
  {
   "cell_type": "code",
   "execution_count": 24,
   "metadata": {},
   "outputs": [
    {
     "data": {
      "text/plain": [
       "Text(0.5,1,'The Relation Between Troop Size And Attack Outcome')"
      ]
     },
     "execution_count": 24,
     "metadata": {},
     "output_type": "execute_result"
    },
    {
     "data": {
      "image/png": "[encoded data removed]",
      "text/plain": [
       "<Figure size 432x288 with 1 Axes>"
      ]
     },
     "metadata": {},
     "output_type": "display_data"
    }
   ],
   "source": [
    "# 6. 攻守方兵力对战争胜利的影响\n",
    "# 选取攻守方人数数据均无缺失值的战争\n",
    "size_filter = df['attacker_size'].notnull() & df['defender_size'].notnull()\n",
    "size_comparison = df[size_filter]\n",
    "\n",
    "# 制作散点图分析相关性，绿点代表攻方获胜，红点代表攻方失利\n",
    "size_comparison.plot(x='defender_size', y='attacker_size', c=['lightseagreen' if x == 'win' else 'lightsalmon' for x in size_comparison['attacker_outcome'].values], kind='scatter')\n",
    "\n",
    "# 添加参考线，参考线以上为攻方人数占优的数据，参考线以下为守方人数占优的数据\n",
    "plt.plot([0,21000],[0,21000], linestyle='--')\n",
    "plt.text(14000, 26000, 'attacker_size bigger', rotation=7)\n",
    "plt.text(14000, 12000, 'defender_size bigger', rotation=7)\n",
    "\n",
    "plt.title('The Relation Between Troop Size And Attack Outcome')"
   ]
  },
  {
   "cell_type": "markdown",
   "metadata": {},
   "source": [
    "由上图可见，攻击方人数占优的情况下，攻击方3胜3负，胜率只有50%，而防守方人数占优时，攻击方胜率6胜1负，胜率超过83%，所以在双方兵力均可知的战役中，攻守方兵力情况不是影响胜负的主要因素。"
   ]
  },
  {
   "cell_type": "code",
   "execution_count": 25,
   "metadata": {},
   "outputs": [
    {
     "data": {
      "text/html": [
       "<div>\n",
       "<style scoped>\n",
       "    .dataframe tbody tr th:only-of-type {\n",
       "        vertical-align: middle;\n",
       "    }\n",
       "\n",
       "    .dataframe tbody tr th {\n",
       "        vertical-align: top;\n",
       "    }\n",
       "\n",
       "    .dataframe thead th {\n",
       "        text-align: right;\n",
       "    }\n",
       "</style>\n",
       "<table border=\"1\" class=\"dataframe\">\n",
       "  <thead>\n",
       "    <tr style=\"text-align: right;\">\n",
       "      <th></th>\n",
       "      <th></th>\n",
       "      <th>attacker_outcome</th>\n",
       "    </tr>\n",
       "    <tr>\n",
       "      <th>major_death</th>\n",
       "      <th>attacker_outcome</th>\n",
       "      <th></th>\n",
       "    </tr>\n",
       "  </thead>\n",
       "  <tbody>\n",
       "    <tr>\n",
       "      <th rowspan=\"2\" valign=\"top\">0.0</th>\n",
       "      <th>win</th>\n",
       "      <td>0.958333</td>\n",
       "    </tr>\n",
       "    <tr>\n",
       "      <th>loss</th>\n",
       "      <td>0.041667</td>\n",
       "    </tr>\n",
       "    <tr>\n",
       "      <th rowspan=\"2\" valign=\"top\">1.0</th>\n",
       "      <th>win</th>\n",
       "      <td>0.692308</td>\n",
       "    </tr>\n",
       "    <tr>\n",
       "      <th>loss</th>\n",
       "      <td>0.307692</td>\n",
       "    </tr>\n",
       "  </tbody>\n",
       "</table>\n",
       "</div>"
      ],
      "text/plain": [
       "                              attacker_outcome\n",
       "major_death attacker_outcome                  \n",
       "0.0         win                       0.958333\n",
       "            loss                      0.041667\n",
       "1.0         win                       0.692308\n",
       "            loss                      0.307692"
      ]
     },
     "execution_count": 25,
     "metadata": {},
     "output_type": "execute_result"
    }
   ],
   "source": [
    "# 重要人物死亡对战争胜利的影响\n",
    "df.groupby('major_death')['attacker_outcome'].value_counts(normalize=True).to_frame()"
   ]
  },
  {
   "cell_type": "markdown",
   "metadata": {},
   "source": [
    "重要人物死亡对攻击方胜率影响明显，重要人物死亡时，攻击方胜率只有69%，比无重要人物死亡时低了26%。"
   ]
  },
  {
   "cell_type": "code",
   "execution_count": 27,
   "metadata": {
    "scrolled": false
   },
   "outputs": [
    {
     "data": {
      "text/html": [
       "<div>\n",
       "<style scoped>\n",
       "    .dataframe tbody tr th:only-of-type {\n",
       "        vertical-align: middle;\n",
       "    }\n",
       "\n",
       "    .dataframe tbody tr th {\n",
       "        vertical-align: top;\n",
       "    }\n",
       "\n",
       "    .dataframe thead th {\n",
       "        text-align: right;\n",
       "    }\n",
       "</style>\n",
       "<table border=\"1\" class=\"dataframe\">\n",
       "  <thead>\n",
       "    <tr style=\"text-align: right;\">\n",
       "      <th></th>\n",
       "      <th></th>\n",
       "      <th>attacker_outcome</th>\n",
       "    </tr>\n",
       "    <tr>\n",
       "      <th>major_capture</th>\n",
       "      <th>attacker_outcome</th>\n",
       "      <th></th>\n",
       "    </tr>\n",
       "  </thead>\n",
       "  <tbody>\n",
       "    <tr>\n",
       "      <th rowspan=\"2\" valign=\"top\">0.0</th>\n",
       "      <th>win</th>\n",
       "      <td>0.923077</td>\n",
       "    </tr>\n",
       "    <tr>\n",
       "      <th>loss</th>\n",
       "      <td>0.076923</td>\n",
       "    </tr>\n",
       "    <tr>\n",
       "      <th rowspan=\"2\" valign=\"top\">1.0</th>\n",
       "      <th>win</th>\n",
       "      <td>0.727273</td>\n",
       "    </tr>\n",
       "    <tr>\n",
       "      <th>loss</th>\n",
       "      <td>0.272727</td>\n",
       "    </tr>\n",
       "  </tbody>\n",
       "</table>\n",
       "</div>"
      ],
      "text/plain": [
       "                                attacker_outcome\n",
       "major_capture attacker_outcome                  \n",
       "0.0           win                       0.923077\n",
       "              loss                      0.076923\n",
       "1.0           win                       0.727273\n",
       "              loss                      0.272727"
      ]
     },
     "execution_count": 27,
     "metadata": {},
     "output_type": "execute_result"
    }
   ],
   "source": [
    "# 重要人物被俘对战争胜利的影响\n",
    "df.groupby('major_capture')['attacker_outcome'].value_counts().to_frame()\n",
    "df.groupby('major_capture')['attacker_outcome'].value_counts(normalize=True).to_frame()"
   ]
  },
  {
   "cell_type": "markdown",
   "metadata": {},
   "source": [
    "以上数据可以看出重要人物被俘对攻击方胜率有明显影响，重要人物被俘时攻击方胜率会下降20%左右。"
   ]
  },
  {
   "cell_type": "code",
   "execution_count": 28,
   "metadata": {
    "scrolled": true
   },
   "outputs": [
    {
     "data": {
      "text/plain": [
       "loss    3\n",
       "win     3\n",
       "Name: attacker_outcome, dtype: int64"
      ]
     },
     "execution_count": 28,
     "metadata": {},
     "output_type": "execute_result"
    }
   ],
   "source": [
    "# 查看重要人物被俘和死亡同时出现时的攻击方胜利情况\n",
    "df[(df['major_capture'] == 1) & (df['major_death'] == 1)]['attacker_outcome'].value_counts()"
   ]
  },
  {
   "cell_type": "code",
   "execution_count": 29,
   "metadata": {},
   "outputs": [
    {
     "data": {
      "text/plain": [
       "win     18\n",
       "loss     1\n",
       "Name: attacker_outcome, dtype: int64"
      ]
     },
     "execution_count": 29,
     "metadata": {},
     "output_type": "execute_result"
    }
   ],
   "source": [
    "# 查看重要人物被俘和死亡同时不出现时的攻击方胜利情况\n",
    "df[(df['major_capture'] == 0) & (df['major_death'] == 0)]['attacker_outcome'].value_counts()"
   ]
  },
  {
   "cell_type": "markdown",
   "metadata": {},
   "source": [
    "重要人物被俘和死亡同时出现时的攻击方胜率降低到了50%，而重要人物被俘和死亡同时不出现时攻击方18胜1负，所以攻击方要尽量确保没有重要人物被俘或者死亡。"
   ]
  },
  {
   "cell_type": "markdown",
   "metadata": {},
   "source": [
    "## 得出结论"
   ]
  },
  {
   "cell_type": "markdown",
   "metadata": {},
   "source": [
    "根据以上的分析结果，在冰与火之歌的战争中，主动出击可以带来高达86%的胜率。攻击方为了确保胜利，可以关注以下几个方面的选择；\n",
    "- 在战术方面，攻击方应该尽量避免遭遇战，选择阵地战或者夏天时使用技巧战会是更有把握的战术选择；\n",
    "- 攻击方要避免重要人物被俘或者死亡，数据显示出现这两个情况时攻击方胜率会显著下降；\n",
    "- 攻击方尽量避免在Beyond the Wall和The Crownlans交战，地理情况可能导致这两个区域易守难攻。"
   ]
  },
  {
   "cell_type": "markdown",
   "metadata": {},
   "source": [
    "**后续改进空间**：\n",
    "- 数据集信息中兵力信息缺失较多，部分名单信息缺失，但战争结果，战争类别，战争区域等信息相对完整，利于分析。\n",
    "- 数据集中有较多的缺失值，大多数缺失值很难进行填充，阅读原著是一个可能获得缺失值信息的方法。\n",
    "- 如果存在兵种变量，天气变量，可以对战争结果影响因素做更全面的分析。\n",
    "- 目测没有混淆相关性和因果性。\n",
    "- 在数据可视化方面需要提高，考虑一些更利于展示数据，分析数据的图表（雷达图等）。\n"
   ]
  }
 ],
 "metadata": {
  "kernelspec": {
   "display_name": "Python 3",
   "language": "python",
   "name": "python3"
  },
  "language_info": {
   "codemirror_mode": {
    "name": "ipython",
    "version": 3
   },
   "file_extension": ".py",
   "mimetype": "text/x-python",
   "name": "python",
   "nbconvert_exporter": "python",
   "pygments_lexer": "ipython3",
   "version": "3.7.3"
  }
 },
 "nbformat": 4,
 "nbformat_minor": 2
}
